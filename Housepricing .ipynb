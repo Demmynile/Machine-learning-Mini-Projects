{
 "cells": [
  {
   "cell_type": "code",
   "execution_count": 9,
   "id": "9f4723c5",
   "metadata": {},
   "outputs": [],
   "source": [
    "#import libraries\n",
    "import pandas as pd\n",
    "import matplotlib.pyplot as plt\n",
    "import seaborn as sns\n",
    "from sklearn.linear_model import LinearRegression\n",
    "import numpy as np"
   ]
  },
  {
   "cell_type": "code",
   "execution_count": 10,
   "id": "71397c4a",
   "metadata": {},
   "outputs": [],
   "source": [
    "df_house = pd.read_csv(\"Housing_data.csv\")"
   ]
  },
  {
   "cell_type": "code",
   "execution_count": 11,
   "id": "f6a18f05",
   "metadata": {},
   "outputs": [
    {
     "data": {
      "text/plain": [
       "array(['gbagada', 'surulere', 'yaba', 'ikorodu', 'ogba', 'iyanaipaja',\n",
       "       'ikeja', 'ikoyi', 'ajah', 'lekki'], dtype=object)"
      ]
     },
     "execution_count": 11,
     "metadata": {},
     "output_type": "execute_result"
    }
   ],
   "source": [
    "df_house[\"location\"].unique()"
   ]
  },
  {
   "cell_type": "code",
   "execution_count": 3,
   "id": "81409ac4",
   "metadata": {},
   "outputs": [
    {
     "data": {
      "text/html": [
       "<div>\n",
       "<style scoped>\n",
       "    .dataframe tbody tr th:only-of-type {\n",
       "        vertical-align: middle;\n",
       "    }\n",
       "\n",
       "    .dataframe tbody tr th {\n",
       "        vertical-align: top;\n",
       "    }\n",
       "\n",
       "    .dataframe thead th {\n",
       "        text-align: right;\n",
       "    }\n",
       "</style>\n",
       "<table border=\"1\" class=\"dataframe\">\n",
       "  <thead>\n",
       "    <tr style=\"text-align: right;\">\n",
       "      <th></th>\n",
       "      <th>price</th>\n",
       "      <th>bedrooms</th>\n",
       "      <th>bathrooms</th>\n",
       "      <th>toilets</th>\n",
       "      <th>estate_flag</th>\n",
       "      <th>terrace_flag</th>\n",
       "      <th>new_flag</th>\n",
       "      <th>serviced_flag</th>\n",
       "      <th>location_rank</th>\n",
       "      <th>exec_flag</th>\n",
       "      <th>estate_price</th>\n",
       "      <th>serviced_price</th>\n",
       "      <th>new_price</th>\n",
       "      <th>locationbed</th>\n",
       "      <th>location</th>\n",
       "      <th>spec_location</th>\n",
       "      <th>description</th>\n",
       "    </tr>\n",
       "  </thead>\n",
       "  <tbody>\n",
       "    <tr>\n",
       "      <th>0</th>\n",
       "      <td>850000.0</td>\n",
       "      <td>3.0</td>\n",
       "      <td>2.0</td>\n",
       "      <td>3.0</td>\n",
       "      <td>0.0</td>\n",
       "      <td>0.0</td>\n",
       "      <td>0.0</td>\n",
       "      <td>0.0</td>\n",
       "      <td>31.0</td>\n",
       "      <td>1.0</td>\n",
       "      <td>1300000.0</td>\n",
       "      <td>1840000.0</td>\n",
       "      <td>1840000.0</td>\n",
       "      <td>gbagada3</td>\n",
       "      <td>gbagada</td>\n",
       "      <td>sosanya soluyi gbagada lagos</td>\n",
       "      <td>3 bedroom Flat / Apartment for rent Sosanya So...</td>\n",
       "    </tr>\n",
       "    <tr>\n",
       "      <th>1</th>\n",
       "      <td>650000.0</td>\n",
       "      <td>1.0</td>\n",
       "      <td>1.0</td>\n",
       "      <td>1.0</td>\n",
       "      <td>1.0</td>\n",
       "      <td>0.0</td>\n",
       "      <td>1.0</td>\n",
       "      <td>1.0</td>\n",
       "      <td>9.0</td>\n",
       "      <td>1.0</td>\n",
       "      <td>400000.0</td>\n",
       "      <td>560000.0</td>\n",
       "      <td>560000.0</td>\n",
       "      <td>gbagada1</td>\n",
       "      <td>gbagada</td>\n",
       "      <td>millenuim ups gbagada lagos</td>\n",
       "      <td>1 bedroom mini flat Mini flat Flat / Apartment...</td>\n",
       "    </tr>\n",
       "    <tr>\n",
       "      <th>2</th>\n",
       "      <td>600000.0</td>\n",
       "      <td>2.0</td>\n",
       "      <td>2.0</td>\n",
       "      <td>2.0</td>\n",
       "      <td>0.0</td>\n",
       "      <td>0.0</td>\n",
       "      <td>0.0</td>\n",
       "      <td>0.0</td>\n",
       "      <td>26.0</td>\n",
       "      <td>1.0</td>\n",
       "      <td>800000.0</td>\n",
       "      <td>1060000.0</td>\n",
       "      <td>1060000.0</td>\n",
       "      <td>gbagada2</td>\n",
       "      <td>gbagada</td>\n",
       "      <td>alapere gbagada lagos</td>\n",
       "      <td>2bed at Alapere, all rooms ensuit ... ...</td>\n",
       "    </tr>\n",
       "    <tr>\n",
       "      <th>3</th>\n",
       "      <td>1500000.0</td>\n",
       "      <td>3.0</td>\n",
       "      <td>3.0</td>\n",
       "      <td>4.0</td>\n",
       "      <td>1.0</td>\n",
       "      <td>0.0</td>\n",
       "      <td>0.0</td>\n",
       "      <td>0.0</td>\n",
       "      <td>31.0</td>\n",
       "      <td>2.0</td>\n",
       "      <td>1300000.0</td>\n",
       "      <td>1840000.0</td>\n",
       "      <td>1840000.0</td>\n",
       "      <td>gbagada3</td>\n",
       "      <td>gbagada</td>\n",
       "      <td>medina gbagada lagos</td>\n",
       "      <td>3 bedroom Flat / Apartment for rent Medina Gba...</td>\n",
       "    </tr>\n",
       "    <tr>\n",
       "      <th>4</th>\n",
       "      <td>1500000.0</td>\n",
       "      <td>3.0</td>\n",
       "      <td>3.0</td>\n",
       "      <td>3.0</td>\n",
       "      <td>1.0</td>\n",
       "      <td>0.0</td>\n",
       "      <td>0.0</td>\n",
       "      <td>0.0</td>\n",
       "      <td>31.0</td>\n",
       "      <td>2.0</td>\n",
       "      <td>1300000.0</td>\n",
       "      <td>1840000.0</td>\n",
       "      <td>1840000.0</td>\n",
       "      <td>gbagada3</td>\n",
       "      <td>gbagada</td>\n",
       "      <td>adeola atunrase medina gbagada lagos</td>\n",
       "      <td>3 bedroom House for rent Adeola Atunrase Medin...</td>\n",
       "    </tr>\n",
       "  </tbody>\n",
       "</table>\n",
       "</div>"
      ],
      "text/plain": [
       "       price  bedrooms  bathrooms  toilets  estate_flag  terrace_flag  \\\n",
       "0   850000.0       3.0        2.0      3.0          0.0           0.0   \n",
       "1   650000.0       1.0        1.0      1.0          1.0           0.0   \n",
       "2   600000.0       2.0        2.0      2.0          0.0           0.0   \n",
       "3  1500000.0       3.0        3.0      4.0          1.0           0.0   \n",
       "4  1500000.0       3.0        3.0      3.0          1.0           0.0   \n",
       "\n",
       "   new_flag  serviced_flag  location_rank  exec_flag  estate_price  \\\n",
       "0       0.0            0.0           31.0        1.0     1300000.0   \n",
       "1       1.0            1.0            9.0        1.0      400000.0   \n",
       "2       0.0            0.0           26.0        1.0      800000.0   \n",
       "3       0.0            0.0           31.0        2.0     1300000.0   \n",
       "4       0.0            0.0           31.0        2.0     1300000.0   \n",
       "\n",
       "   serviced_price  new_price locationbed location  \\\n",
       "0       1840000.0  1840000.0    gbagada3  gbagada   \n",
       "1        560000.0   560000.0    gbagada1  gbagada   \n",
       "2       1060000.0  1060000.0    gbagada2  gbagada   \n",
       "3       1840000.0  1840000.0    gbagada3  gbagada   \n",
       "4       1840000.0  1840000.0    gbagada3  gbagada   \n",
       "\n",
       "                          spec_location  \\\n",
       "0          sosanya soluyi gbagada lagos   \n",
       "1           millenuim ups gbagada lagos   \n",
       "2                 alapere gbagada lagos   \n",
       "3                  medina gbagada lagos   \n",
       "4  adeola atunrase medina gbagada lagos   \n",
       "\n",
       "                                         description  \n",
       "0  3 bedroom Flat / Apartment for rent Sosanya So...  \n",
       "1  1 bedroom mini flat Mini flat Flat / Apartment...  \n",
       "2          2bed at Alapere, all rooms ensuit ... ...  \n",
       "3  3 bedroom Flat / Apartment for rent Medina Gba...  \n",
       "4  3 bedroom House for rent Adeola Atunrase Medin...  "
      ]
     },
     "execution_count": 3,
     "metadata": {},
     "output_type": "execute_result"
    }
   ],
   "source": [
    "df_house.head()"
   ]
  },
  {
   "cell_type": "code",
   "execution_count": 4,
   "id": "3f98ec76",
   "metadata": {},
   "outputs": [],
   "source": [
    "df_house.drop([\"locationbed\" , \"spec_location\" , \"description\" ] ,  axis = \"columns\" , inplace = True)"
   ]
  },
  {
   "cell_type": "code",
   "execution_count": 8,
   "id": "98a5924e",
   "metadata": {},
   "outputs": [
    {
     "data": {
      "text/plain": [
       "array([1, 8, 9, 3, 7, 5, 2, 4, 0, 6])"
      ]
     },
     "execution_count": 8,
     "metadata": {},
     "output_type": "execute_result"
    }
   ],
   "source": [
    "df_house[\"location\"].unique()"
   ]
  },
  {
   "cell_type": "code",
   "execution_count": 5,
   "id": "cf0cbd11",
   "metadata": {},
   "outputs": [
    {
     "data": {
      "text/plain": [
       "LabelEncoder()"
      ]
     },
     "execution_count": 5,
     "metadata": {},
     "output_type": "execute_result"
    }
   ],
   "source": [
    "from sklearn.preprocessing import LabelEncoder\n",
    "le = LabelEncoder()\n",
    "le"
   ]
  },
  {
   "cell_type": "code",
   "execution_count": 6,
   "id": "51c308d2",
   "metadata": {},
   "outputs": [],
   "source": [
    "df_house[\"location\"] = le.fit_transform(df_house[\"location\"])"
   ]
  },
  {
   "cell_type": "code",
   "execution_count": 7,
   "id": "a2bf570b",
   "metadata": {},
   "outputs": [
    {
     "data": {
      "text/plain": [
       "0       1\n",
       "1       1\n",
       "2       1\n",
       "3       1\n",
       "4       1\n",
       "       ..\n",
       "4372    6\n",
       "4373    6\n",
       "4374    6\n",
       "4375    6\n",
       "4376    6\n",
       "Name: location, Length: 4377, dtype: int32"
      ]
     },
     "execution_count": 7,
     "metadata": {},
     "output_type": "execute_result"
    }
   ],
   "source": [
    "df_house[\"location\"]"
   ]
  },
  {
   "cell_type": "code",
   "execution_count": 8,
   "id": "6f9d91ab",
   "metadata": {},
   "outputs": [
    {
     "data": {
      "text/plain": [
       "array([[3.00e+00, 2.00e+00, 3.00e+00, ..., 1.84e+06, 1.84e+06, 1.00e+00],\n",
       "       [1.00e+00, 1.00e+00, 1.00e+00, ..., 5.60e+05, 5.60e+05, 1.00e+00],\n",
       "       [2.00e+00, 2.00e+00, 2.00e+00, ..., 1.06e+06, 1.06e+06, 1.00e+00],\n",
       "       ...,\n",
       "       [4.00e+00, 5.00e+00, 5.00e+00, ..., 4.50e+06, 4.50e+06, 6.00e+00],\n",
       "       [5.00e+00, 5.00e+00, 6.00e+00, ..., 6.50e+06, 6.50e+06, 6.00e+00],\n",
       "       [3.00e+00, 3.00e+00, 4.00e+00, ..., 3.50e+06, 3.50e+06, 6.00e+00]])"
      ]
     },
     "execution_count": 8,
     "metadata": {},
     "output_type": "execute_result"
    }
   ],
   "source": [
    "X = df_house.iloc[: , 1: 14].values\n",
    "X"
   ]
  },
  {
   "cell_type": "code",
   "execution_count": 9,
   "id": "bef16bec",
   "metadata": {},
   "outputs": [
    {
     "data": {
      "text/plain": [
       "0        850000.0\n",
       "1        650000.0\n",
       "2        600000.0\n",
       "3       1500000.0\n",
       "4       1500000.0\n",
       "          ...    \n",
       "4372    4000000.0\n",
       "4373    6000000.0\n",
       "4374    7000000.0\n",
       "4375    4500000.0\n",
       "4376    1200000.0\n",
       "Name: price, Length: 4377, dtype: float64"
      ]
     },
     "execution_count": 9,
     "metadata": {},
     "output_type": "execute_result"
    }
   ],
   "source": [
    "y = df_house.iloc[: , 0]\n",
    "y"
   ]
  },
  {
   "cell_type": "code",
   "execution_count": 11,
   "id": "8eba0e82",
   "metadata": {},
   "outputs": [],
   "source": [
    "#features in selection\n",
    "from sklearn.feature_selection import SelectKBest\n",
    "from sklearn.feature_selection import chi2"
   ]
  },
  {
   "cell_type": "code",
   "execution_count": 14,
   "id": "ef98fdeb",
   "metadata": {},
   "outputs": [],
   "source": [
    "#apply SelectKBest class to extract top 10 best features\n",
    "bestfeatures = SebeflectKBest(score_func=chi2, k=10)\n",
    "fit = bestfeatures.fit(X,y)\n",
    "dfscores = pd.DataFrame(fit.scores_)\n",
    "dfcolumns = pd.DataFrame(df_house.iloc[: , 1:14].columns)"
   ]
  },
  {
   "cell_type": "code",
   "execution_count": 15,
   "id": "ac4dc703",
   "metadata": {},
   "outputs": [
    {
     "name": "stdout",
     "output_type": "stream",
     "text": [
      "             Specs         Score\n",
      "10  serviced_price  4.490097e+09\n",
      "11       new_price  4.490097e+09\n",
      "9     estate_price  3.648917e+09\n",
      "7    location_rank  2.479423e+04\n",
      "8        exec_flag  1.901624e+03\n",
      "4     terrace_flag  1.644899e+03\n",
      "2          toilets  1.308640e+03\n",
      "0         bedrooms  1.246457e+03\n",
      "1        bathrooms  9.908438e+02\n",
      "12        location  4.881536e+02\n"
     ]
    }
   ],
   "source": [
    "featureScores = pd.concat([dfcolumns,dfscores],axis=1)\n",
    "featureScores.columns = ['Specs','Score']  #naming the dataframe columns\n",
    "print(featureScores.nlargest(10,'Score'))  #print 10 best features"
   ]
  },
  {
   "cell_type": "code",
   "execution_count": 19,
   "id": "33b15dee",
   "metadata": {},
   "outputs": [
    {
     "data": {
      "text/plain": [
       "array([[2.00e+00, 1.84e+06, 1.84e+06, ..., 3.00e+00, 3.00e+00, 1.00e+00],\n",
       "       [1.00e+00, 5.60e+05, 5.60e+05, ..., 1.00e+00, 1.00e+00, 1.00e+00],\n",
       "       [2.00e+00, 1.06e+06, 1.06e+06, ..., 2.00e+00, 2.00e+00, 1.00e+00],\n",
       "       ...,\n",
       "       [5.00e+00, 4.50e+06, 4.50e+06, ..., 5.00e+00, 4.00e+00, 6.00e+00],\n",
       "       [5.00e+00, 6.50e+06, 6.50e+06, ..., 6.00e+00, 5.00e+00, 6.00e+00],\n",
       "       [3.00e+00, 3.50e+06, 3.50e+06, ..., 4.00e+00, 3.00e+00, 6.00e+00]])"
      ]
     },
     "execution_count": 19,
     "metadata": {},
     "output_type": "execute_result"
    }
   ],
   "source": [
    "#now getting the my data split\n",
    "X = df_house[[\"bathrooms\" , \"serviced_price\" , \"new_price\" , \"estate_price\" , \"location_rank\",\"exec_flag\" , \"terrace_flag\" , \"toilets\" , \"bedrooms\" , \"location\"]].values\n",
    "X"
   ]
  },
  {
   "cell_type": "code",
   "execution_count": 20,
   "id": "e2382263",
   "metadata": {},
   "outputs": [
    {
     "data": {
      "text/plain": [
       "0        850000.0\n",
       "1        650000.0\n",
       "2        600000.0\n",
       "3       1500000.0\n",
       "4       1500000.0\n",
       "          ...    \n",
       "4372    4000000.0\n",
       "4373    6000000.0\n",
       "4374    7000000.0\n",
       "4375    4500000.0\n",
       "4376    1200000.0\n",
       "Name: price, Length: 4377, dtype: float64"
      ]
     },
     "execution_count": 20,
     "metadata": {},
     "output_type": "execute_result"
    }
   ],
   "source": [
    "y"
   ]
  },
  {
   "cell_type": "code",
   "execution_count": 69,
   "id": "4abbde47",
   "metadata": {},
   "outputs": [],
   "source": [
    "#using the train and split method for modelling \n",
    "\n",
    "from sklearn.linear_model import LinearRegression\n",
    "from sklearn.model_selection import train_test_split\n",
    "import pickle"
   ]
  },
  {
   "cell_type": "code",
   "execution_count": 60,
   "id": "922400c9",
   "metadata": {},
   "outputs": [],
   "source": [
    "lm = LinearRegression()"
   ]
  },
  {
   "cell_type": "code",
   "execution_count": 61,
   "id": "4af97354",
   "metadata": {},
   "outputs": [],
   "source": [
    "x_train , x_test , y_train , y_test = train_test_split(X , y , test_size = 0.2)"
   ]
  },
  {
   "cell_type": "code",
   "execution_count": 62,
   "id": "52f3fbd0",
   "metadata": {},
   "outputs": [
    {
     "data": {
      "text/plain": [
       "array([[2.0e+00, 5.7e+05, 5.7e+05, ..., 2.0e+00, 1.0e+00, 0.0e+00],\n",
       "       [0.0e+00, 4.5e+06, 4.5e+06, ..., 0.0e+00, 4.0e+00, 6.0e+00],\n",
       "       [1.0e+00, 1.5e+06, 1.5e+06, ..., 1.0e+00, 1.0e+00, 6.0e+00],\n",
       "       ...,\n",
       "       [2.0e+00, 7.9e+06, 7.9e+06, ..., 3.0e+00, 2.0e+00, 4.0e+00],\n",
       "       [4.0e+00, 4.5e+06, 4.5e+06, ..., 5.0e+00, 4.0e+00, 6.0e+00],\n",
       "       [4.0e+00, 4.5e+06, 4.5e+06, ..., 4.0e+00, 4.0e+00, 6.0e+00]])"
      ]
     },
     "execution_count": 62,
     "metadata": {},
     "output_type": "execute_result"
    }
   ],
   "source": [
    "x_train"
   ]
  },
  {
   "cell_type": "code",
   "execution_count": 63,
   "id": "ef8fcac1",
   "metadata": {},
   "outputs": [
    {
     "data": {
      "text/plain": [
       "1714     500000.0\n",
       "2801    4000000.0\n",
       "3606    1500000.0\n",
       "2247     600000.0\n",
       "905      250000.0\n",
       "          ...    \n",
       "1844    1000000.0\n",
       "2423    2800000.0\n",
       "1639    4500000.0\n",
       "2388    3500000.0\n",
       "3024    3500000.0\n",
       "Name: price, Length: 3501, dtype: float64"
      ]
     },
     "execution_count": 63,
     "metadata": {},
     "output_type": "execute_result"
    }
   ],
   "source": [
    "y_train"
   ]
  },
  {
   "cell_type": "code",
   "execution_count": 64,
   "id": "bc8f2860",
   "metadata": {},
   "outputs": [
    {
     "data": {
      "text/plain": [
       "LinearRegression()"
      ]
     },
     "execution_count": 64,
     "metadata": {},
     "output_type": "execute_result"
    }
   ],
   "source": [
    "lm.fit(x_train , y_train)"
   ]
  },
  {
   "cell_type": "code",
   "execution_count": 65,
   "id": "fff79081",
   "metadata": {},
   "outputs": [
    {
     "data": {
      "text/plain": [
       "-358981.17065637605"
      ]
     },
     "execution_count": 65,
     "metadata": {},
     "output_type": "execute_result"
    }
   ],
   "source": [
    "lm.intercept_"
   ]
  },
  {
   "cell_type": "code",
   "execution_count": 66,
   "id": "866d2c62",
   "metadata": {},
   "outputs": [
    {
     "data": {
      "text/plain": [
       "array([-8.06500235e+04,  6.02925427e-02,  6.03026866e-02,  5.58831814e-01,\n",
       "       -2.39168218e+04,  5.17361854e+05,  7.84882197e+05,  7.99094117e+04,\n",
       "        1.47101808e+05,  1.71545376e+04])"
      ]
     },
     "execution_count": 66,
     "metadata": {},
     "output_type": "execute_result"
    }
   ],
   "source": [
    "lm.coef_"
   ]
  },
  {
   "cell_type": "code",
   "execution_count": 67,
   "id": "90cc187b",
   "metadata": {},
   "outputs": [
    {
     "data": {
      "text/plain": [
       "0.7847191723786908"
      ]
     },
     "execution_count": 67,
     "metadata": {},
     "output_type": "execute_result"
    }
   ],
   "source": [
    "lm.score(x_train , y_train)"
   ]
  },
  {
   "cell_type": "code",
   "execution_count": 68,
   "id": "8c5c1932",
   "metadata": {},
   "outputs": [
    {
     "data": {
      "text/plain": [
       "0.7960383126861529"
      ]
     },
     "execution_count": 68,
     "metadata": {},
     "output_type": "execute_result"
    }
   ],
   "source": [
    "lm.score(x_test,y_test)"
   ]
  },
  {
   "cell_type": "code",
   "execution_count": 72,
   "id": "41c71e3d",
   "metadata": {},
   "outputs": [],
   "source": [
    "#saving the model into a pickle file\n",
    "with open(\"housepricingModel\" , \"wb\") as f:\n",
    "    pickle.dump(lm , f)\n",
    "    "
   ]
  },
  {
   "cell_type": "code",
   "execution_count": 73,
   "id": "4993b7c0",
   "metadata": {},
   "outputs": [],
   "source": [
    "with open(\"housepricingModel\" , \"rb\") as f:\n",
    "    md = pickle.load(f)"
   ]
  },
  {
   "cell_type": "code",
   "execution_count": 75,
   "id": "287639b5",
   "metadata": {},
   "outputs": [
    {
     "data": {
      "text/plain": [
       "array([5534265.86910494])"
      ]
     },
     "execution_count": 75,
     "metadata": {},
     "output_type": "execute_result"
    }
   ],
   "source": [
    "md.predict([[2,10,3.0,2,1.0,2,5,6,4,3]])"
   ]
  },
  {
   "cell_type": "code",
   "execution_count": null,
   "id": "183c1d44",
   "metadata": {},
   "outputs": [],
   "source": []
  }
 ],
 "metadata": {
  "kernelspec": {
   "display_name": "Python 3",
   "language": "python",
   "name": "python3"
  },
  "language_info": {
   "codemirror_mode": {
    "name": "ipython",
    "version": 3
   },
   "file_extension": ".py",
   "mimetype": "text/x-python",
   "name": "python",
   "nbconvert_exporter": "python",
   "pygments_lexer": "ipython3",
   "version": "3.8.8"
  }
 },
 "nbformat": 4,
 "nbformat_minor": 5
}
