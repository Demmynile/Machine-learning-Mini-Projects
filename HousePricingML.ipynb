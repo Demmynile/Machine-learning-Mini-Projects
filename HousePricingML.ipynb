{
 "cells": [
  {
   "cell_type": "code",
   "execution_count": 32,
   "id": "9f4723c5",
   "metadata": {},
   "outputs": [],
   "source": [
    "#import libraries\n",
    "import pandas as pd\n",
    "import matplotlib.pyplot as plt\n",
    "import seaborn as sns\n",
    "from sklearn.linear_model import LinearRegression\n",
    "import numpy as np"
   ]
  },
  {
   "cell_type": "code",
   "execution_count": 33,
   "id": "71397c4a",
   "metadata": {},
   "outputs": [],
   "source": [
    "df_house = pd.read_csv(\"Housing_data.csv\")"
   ]
  },
  {
   "cell_type": "code",
   "execution_count": 34,
   "id": "81409ac4",
   "metadata": {},
   "outputs": [
    {
     "data": {
      "text/html": [
       "<div>\n",
       "<style scoped>\n",
       "    .dataframe tbody tr th:only-of-type {\n",
       "        vertical-align: middle;\n",
       "    }\n",
       "\n",
       "    .dataframe tbody tr th {\n",
       "        vertical-align: top;\n",
       "    }\n",
       "\n",
       "    .dataframe thead th {\n",
       "        text-align: right;\n",
       "    }\n",
       "</style>\n",
       "<table border=\"1\" class=\"dataframe\">\n",
       "  <thead>\n",
       "    <tr style=\"text-align: right;\">\n",
       "      <th></th>\n",
       "      <th>price</th>\n",
       "      <th>bedrooms</th>\n",
       "      <th>bathrooms</th>\n",
       "      <th>toilets</th>\n",
       "      <th>estate_flag</th>\n",
       "      <th>terrace_flag</th>\n",
       "      <th>new_flag</th>\n",
       "      <th>serviced_flag</th>\n",
       "      <th>location_rank</th>\n",
       "      <th>exec_flag</th>\n",
       "      <th>estate_price</th>\n",
       "      <th>serviced_price</th>\n",
       "      <th>new_price</th>\n",
       "      <th>locationbed</th>\n",
       "      <th>location</th>\n",
       "      <th>spec_location</th>\n",
       "      <th>description</th>\n",
       "    </tr>\n",
       "  </thead>\n",
       "  <tbody>\n",
       "    <tr>\n",
       "      <th>0</th>\n",
       "      <td>850000.0</td>\n",
       "      <td>3.0</td>\n",
       "      <td>2.0</td>\n",
       "      <td>3.0</td>\n",
       "      <td>0.0</td>\n",
       "      <td>0.0</td>\n",
       "      <td>0.0</td>\n",
       "      <td>0.0</td>\n",
       "      <td>31.0</td>\n",
       "      <td>1.0</td>\n",
       "      <td>1300000.0</td>\n",
       "      <td>1840000.0</td>\n",
       "      <td>1840000.0</td>\n",
       "      <td>gbagada3</td>\n",
       "      <td>gbagada</td>\n",
       "      <td>sosanya soluyi gbagada lagos</td>\n",
       "      <td>3 bedroom Flat / Apartment for rent Sosanya So...</td>\n",
       "    </tr>\n",
       "    <tr>\n",
       "      <th>1</th>\n",
       "      <td>650000.0</td>\n",
       "      <td>1.0</td>\n",
       "      <td>1.0</td>\n",
       "      <td>1.0</td>\n",
       "      <td>1.0</td>\n",
       "      <td>0.0</td>\n",
       "      <td>1.0</td>\n",
       "      <td>1.0</td>\n",
       "      <td>9.0</td>\n",
       "      <td>1.0</td>\n",
       "      <td>400000.0</td>\n",
       "      <td>560000.0</td>\n",
       "      <td>560000.0</td>\n",
       "      <td>gbagada1</td>\n",
       "      <td>gbagada</td>\n",
       "      <td>millenuim ups gbagada lagos</td>\n",
       "      <td>1 bedroom mini flat Mini flat Flat / Apartment...</td>\n",
       "    </tr>\n",
       "    <tr>\n",
       "      <th>2</th>\n",
       "      <td>600000.0</td>\n",
       "      <td>2.0</td>\n",
       "      <td>2.0</td>\n",
       "      <td>2.0</td>\n",
       "      <td>0.0</td>\n",
       "      <td>0.0</td>\n",
       "      <td>0.0</td>\n",
       "      <td>0.0</td>\n",
       "      <td>26.0</td>\n",
       "      <td>1.0</td>\n",
       "      <td>800000.0</td>\n",
       "      <td>1060000.0</td>\n",
       "      <td>1060000.0</td>\n",
       "      <td>gbagada2</td>\n",
       "      <td>gbagada</td>\n",
       "      <td>alapere gbagada lagos</td>\n",
       "      <td>2bed at Alapere, all rooms ensuit ... ...</td>\n",
       "    </tr>\n",
       "    <tr>\n",
       "      <th>3</th>\n",
       "      <td>1500000.0</td>\n",
       "      <td>3.0</td>\n",
       "      <td>3.0</td>\n",
       "      <td>4.0</td>\n",
       "      <td>1.0</td>\n",
       "      <td>0.0</td>\n",
       "      <td>0.0</td>\n",
       "      <td>0.0</td>\n",
       "      <td>31.0</td>\n",
       "      <td>2.0</td>\n",
       "      <td>1300000.0</td>\n",
       "      <td>1840000.0</td>\n",
       "      <td>1840000.0</td>\n",
       "      <td>gbagada3</td>\n",
       "      <td>gbagada</td>\n",
       "      <td>medina gbagada lagos</td>\n",
       "      <td>3 bedroom Flat / Apartment for rent Medina Gba...</td>\n",
       "    </tr>\n",
       "    <tr>\n",
       "      <th>4</th>\n",
       "      <td>1500000.0</td>\n",
       "      <td>3.0</td>\n",
       "      <td>3.0</td>\n",
       "      <td>3.0</td>\n",
       "      <td>1.0</td>\n",
       "      <td>0.0</td>\n",
       "      <td>0.0</td>\n",
       "      <td>0.0</td>\n",
       "      <td>31.0</td>\n",
       "      <td>2.0</td>\n",
       "      <td>1300000.0</td>\n",
       "      <td>1840000.0</td>\n",
       "      <td>1840000.0</td>\n",
       "      <td>gbagada3</td>\n",
       "      <td>gbagada</td>\n",
       "      <td>adeola atunrase medina gbagada lagos</td>\n",
       "      <td>3 bedroom House for rent Adeola Atunrase Medin...</td>\n",
       "    </tr>\n",
       "  </tbody>\n",
       "</table>\n",
       "</div>"
      ],
      "text/plain": [
       "       price  bedrooms  bathrooms  toilets  estate_flag  terrace_flag  \\\n",
       "0   850000.0       3.0        2.0      3.0          0.0           0.0   \n",
       "1   650000.0       1.0        1.0      1.0          1.0           0.0   \n",
       "2   600000.0       2.0        2.0      2.0          0.0           0.0   \n",
       "3  1500000.0       3.0        3.0      4.0          1.0           0.0   \n",
       "4  1500000.0       3.0        3.0      3.0          1.0           0.0   \n",
       "\n",
       "   new_flag  serviced_flag  location_rank  exec_flag  estate_price  \\\n",
       "0       0.0            0.0           31.0        1.0     1300000.0   \n",
       "1       1.0            1.0            9.0        1.0      400000.0   \n",
       "2       0.0            0.0           26.0        1.0      800000.0   \n",
       "3       0.0            0.0           31.0        2.0     1300000.0   \n",
       "4       0.0            0.0           31.0        2.0     1300000.0   \n",
       "\n",
       "   serviced_price  new_price locationbed location  \\\n",
       "0       1840000.0  1840000.0    gbagada3  gbagada   \n",
       "1        560000.0   560000.0    gbagada1  gbagada   \n",
       "2       1060000.0  1060000.0    gbagada2  gbagada   \n",
       "3       1840000.0  1840000.0    gbagada3  gbagada   \n",
       "4       1840000.0  1840000.0    gbagada3  gbagada   \n",
       "\n",
       "                          spec_location  \\\n",
       "0          sosanya soluyi gbagada lagos   \n",
       "1           millenuim ups gbagada lagos   \n",
       "2                 alapere gbagada lagos   \n",
       "3                  medina gbagada lagos   \n",
       "4  adeola atunrase medina gbagada lagos   \n",
       "\n",
       "                                         description  \n",
       "0  3 bedroom Flat / Apartment for rent Sosanya So...  \n",
       "1  1 bedroom mini flat Mini flat Flat / Apartment...  \n",
       "2          2bed at Alapere, all rooms ensuit ... ...  \n",
       "3  3 bedroom Flat / Apartment for rent Medina Gba...  \n",
       "4  3 bedroom House for rent Adeola Atunrase Medin...  "
      ]
     },
     "execution_count": 34,
     "metadata": {},
     "output_type": "execute_result"
    }
   ],
   "source": [
    "df_house.head()"
   ]
  },
  {
   "cell_type": "code",
   "execution_count": 37,
   "id": "302649f4",
   "metadata": {},
   "outputs": [
    {
     "data": {
      "text/html": [
       "<div>\n",
       "<style scoped>\n",
       "    .dataframe tbody tr th:only-of-type {\n",
       "        vertical-align: middle;\n",
       "    }\n",
       "\n",
       "    .dataframe tbody tr th {\n",
       "        vertical-align: top;\n",
       "    }\n",
       "\n",
       "    .dataframe thead th {\n",
       "        text-align: right;\n",
       "    }\n",
       "</style>\n",
       "<table border=\"1\" class=\"dataframe\">\n",
       "  <thead>\n",
       "    <tr style=\"text-align: right;\">\n",
       "      <th></th>\n",
       "      <th>price</th>\n",
       "      <th>bedrooms</th>\n",
       "      <th>bathrooms</th>\n",
       "      <th>toilets</th>\n",
       "      <th>estate_flag</th>\n",
       "      <th>terrace_flag</th>\n",
       "      <th>new_flag</th>\n",
       "      <th>serviced_flag</th>\n",
       "      <th>location_rank</th>\n",
       "      <th>exec_flag</th>\n",
       "      <th>estate_price</th>\n",
       "      <th>serviced_price</th>\n",
       "      <th>new_price</th>\n",
       "      <th>locationbed</th>\n",
       "      <th>location</th>\n",
       "      <th>spec_location</th>\n",
       "      <th>description</th>\n",
       "    </tr>\n",
       "  </thead>\n",
       "  <tbody>\n",
       "    <tr>\n",
       "      <th>2279</th>\n",
       "      <td>2000000.0</td>\n",
       "      <td>3.0</td>\n",
       "      <td>3.0</td>\n",
       "      <td>4.0</td>\n",
       "      <td>0.0</td>\n",
       "      <td>0.0</td>\n",
       "      <td>0.0</td>\n",
       "      <td>0.0</td>\n",
       "      <td>43.0</td>\n",
       "      <td>2.0</td>\n",
       "      <td>2500000.0</td>\n",
       "      <td>3500000.0</td>\n",
       "      <td>3500000.0</td>\n",
       "      <td>lekki3</td>\n",
       "      <td>lekki</td>\n",
       "      <td>ikate lekki lagos</td>\n",
       "      <td>For more information, pricing and private view...</td>\n",
       "    </tr>\n",
       "    <tr>\n",
       "      <th>2280</th>\n",
       "      <td>3500000.0</td>\n",
       "      <td>4.0</td>\n",
       "      <td>4.0</td>\n",
       "      <td>5.0</td>\n",
       "      <td>0.0</td>\n",
       "      <td>1.0</td>\n",
       "      <td>0.0</td>\n",
       "      <td>0.0</td>\n",
       "      <td>52.0</td>\n",
       "      <td>4.0</td>\n",
       "      <td>3500000.0</td>\n",
       "      <td>4500000.0</td>\n",
       "      <td>4500000.0</td>\n",
       "      <td>lekki4</td>\n",
       "      <td>lekki</td>\n",
       "      <td>ikota lekki lagos</td>\n",
       "      <td>4 bedroom Semi Detached Duplex House for rent ...</td>\n",
       "    </tr>\n",
       "    <tr>\n",
       "      <th>2281</th>\n",
       "      <td>1400000.0</td>\n",
       "      <td>1.0</td>\n",
       "      <td>1.0</td>\n",
       "      <td>0.0</td>\n",
       "      <td>1.0</td>\n",
       "      <td>0.0</td>\n",
       "      <td>0.0</td>\n",
       "      <td>0.0</td>\n",
       "      <td>25.0</td>\n",
       "      <td>2.0</td>\n",
       "      <td>1000000.0</td>\n",
       "      <td>1500000.0</td>\n",
       "      <td>1500000.0</td>\n",
       "      <td>lekki1</td>\n",
       "      <td>lekki</td>\n",
       "      <td>lekki phase 1 lekki lagos</td>\n",
       "      <td>For more information, pricing and private view...</td>\n",
       "    </tr>\n",
       "    <tr>\n",
       "      <th>2282</th>\n",
       "      <td>1600000.0</td>\n",
       "      <td>2.0</td>\n",
       "      <td>2.0</td>\n",
       "      <td>3.0</td>\n",
       "      <td>0.0</td>\n",
       "      <td>0.0</td>\n",
       "      <td>1.0</td>\n",
       "      <td>1.0</td>\n",
       "      <td>35.0</td>\n",
       "      <td>2.0</td>\n",
       "      <td>1800000.0</td>\n",
       "      <td>2500000.0</td>\n",
       "      <td>2500000.0</td>\n",
       "      <td>lekki2</td>\n",
       "      <td>lekki</td>\n",
       "      <td>ikota lekki lagos</td>\n",
       "      <td>Its a fully serviced apartment with air condit...</td>\n",
       "    </tr>\n",
       "    <tr>\n",
       "      <th>2283</th>\n",
       "      <td>3000000.0</td>\n",
       "      <td>4.0</td>\n",
       "      <td>5.0</td>\n",
       "      <td>6.0</td>\n",
       "      <td>1.0</td>\n",
       "      <td>1.0</td>\n",
       "      <td>1.0</td>\n",
       "      <td>0.0</td>\n",
       "      <td>52.0</td>\n",
       "      <td>3.0</td>\n",
       "      <td>3500000.0</td>\n",
       "      <td>4500000.0</td>\n",
       "      <td>4500000.0</td>\n",
       "      <td>lekki4</td>\n",
       "      <td>lekki</td>\n",
       "      <td>ikota villa estate lekki phase 2 lekki lagos</td>\n",
       "      <td>FOR RENT: Brand New Superbly Finished 4 Bedroo...</td>\n",
       "    </tr>\n",
       "    <tr>\n",
       "      <th>...</th>\n",
       "      <td>...</td>\n",
       "      <td>...</td>\n",
       "      <td>...</td>\n",
       "      <td>...</td>\n",
       "      <td>...</td>\n",
       "      <td>...</td>\n",
       "      <td>...</td>\n",
       "      <td>...</td>\n",
       "      <td>...</td>\n",
       "      <td>...</td>\n",
       "      <td>...</td>\n",
       "      <td>...</td>\n",
       "      <td>...</td>\n",
       "      <td>...</td>\n",
       "      <td>...</td>\n",
       "      <td>...</td>\n",
       "      <td>...</td>\n",
       "    </tr>\n",
       "    <tr>\n",
       "      <th>4372</th>\n",
       "      <td>4000000.0</td>\n",
       "      <td>4.0</td>\n",
       "      <td>4.0</td>\n",
       "      <td>5.0</td>\n",
       "      <td>1.0</td>\n",
       "      <td>0.0</td>\n",
       "      <td>1.0</td>\n",
       "      <td>1.0</td>\n",
       "      <td>52.0</td>\n",
       "      <td>4.0</td>\n",
       "      <td>3500000.0</td>\n",
       "      <td>4500000.0</td>\n",
       "      <td>4500000.0</td>\n",
       "      <td>lekki4</td>\n",
       "      <td>lekki</td>\n",
       "      <td>marwa lekki phase 1 lekki lagos</td>\n",
       "      <td>It's located in a beautiful mini estate in Lek...</td>\n",
       "    </tr>\n",
       "    <tr>\n",
       "      <th>4373</th>\n",
       "      <td>6000000.0</td>\n",
       "      <td>3.0</td>\n",
       "      <td>3.0</td>\n",
       "      <td>4.0</td>\n",
       "      <td>1.0</td>\n",
       "      <td>1.0</td>\n",
       "      <td>1.0</td>\n",
       "      <td>1.0</td>\n",
       "      <td>43.0</td>\n",
       "      <td>4.0</td>\n",
       "      <td>2500000.0</td>\n",
       "      <td>3500000.0</td>\n",
       "      <td>3500000.0</td>\n",
       "      <td>lekki3</td>\n",
       "      <td>lekki</td>\n",
       "      <td>off admiralty lekki phase 1 lekki lagos</td>\n",
       "      <td>3 bedroom flat for rent Off admiralty Lekki Ph...</td>\n",
       "    </tr>\n",
       "    <tr>\n",
       "      <th>4374</th>\n",
       "      <td>7000000.0</td>\n",
       "      <td>4.0</td>\n",
       "      <td>5.0</td>\n",
       "      <td>5.0</td>\n",
       "      <td>1.0</td>\n",
       "      <td>1.0</td>\n",
       "      <td>1.0</td>\n",
       "      <td>1.0</td>\n",
       "      <td>52.0</td>\n",
       "      <td>4.0</td>\n",
       "      <td>3500000.0</td>\n",
       "      <td>4500000.0</td>\n",
       "      <td>4500000.0</td>\n",
       "      <td>lekki4</td>\n",
       "      <td>lekki</td>\n",
       "      <td>lekki phase 1 lekki phase 1 lekki lagos</td>\n",
       "      <td>-Newly built 4 bedroom with a boys quarter. -F...</td>\n",
       "    </tr>\n",
       "    <tr>\n",
       "      <th>4375</th>\n",
       "      <td>4500000.0</td>\n",
       "      <td>5.0</td>\n",
       "      <td>5.0</td>\n",
       "      <td>6.0</td>\n",
       "      <td>0.0</td>\n",
       "      <td>1.0</td>\n",
       "      <td>1.0</td>\n",
       "      <td>0.0</td>\n",
       "      <td>60.0</td>\n",
       "      <td>1.0</td>\n",
       "      <td>5000000.0</td>\n",
       "      <td>6500000.0</td>\n",
       "      <td>6500000.0</td>\n",
       "      <td>lekki5</td>\n",
       "      <td>lekki</td>\n",
       "      <td>lekki phase 1 lekki lagos</td>\n",
       "      <td>Newly built spacious 5bedroom semi detached du...</td>\n",
       "    </tr>\n",
       "    <tr>\n",
       "      <th>4376</th>\n",
       "      <td>1200000.0</td>\n",
       "      <td>3.0</td>\n",
       "      <td>3.0</td>\n",
       "      <td>4.0</td>\n",
       "      <td>1.0</td>\n",
       "      <td>0.0</td>\n",
       "      <td>1.0</td>\n",
       "      <td>0.0</td>\n",
       "      <td>43.0</td>\n",
       "      <td>2.0</td>\n",
       "      <td>2500000.0</td>\n",
       "      <td>3500000.0</td>\n",
       "      <td>3500000.0</td>\n",
       "      <td>lekki3</td>\n",
       "      <td>lekki</td>\n",
       "      <td>mayfair garden estate, awoyaya eputu ibeju lek...</td>\n",
       "      <td>Lovely built three bedrooms flat in an estate ...</td>\n",
       "    </tr>\n",
       "  </tbody>\n",
       "</table>\n",
       "<p>2098 rows × 17 columns</p>\n",
       "</div>"
      ],
      "text/plain": [
       "          price  bedrooms  bathrooms  toilets  estate_flag  terrace_flag  \\\n",
       "2279  2000000.0       3.0        3.0      4.0          0.0           0.0   \n",
       "2280  3500000.0       4.0        4.0      5.0          0.0           1.0   \n",
       "2281  1400000.0       1.0        1.0      0.0          1.0           0.0   \n",
       "2282  1600000.0       2.0        2.0      3.0          0.0           0.0   \n",
       "2283  3000000.0       4.0        5.0      6.0          1.0           1.0   \n",
       "...         ...       ...        ...      ...          ...           ...   \n",
       "4372  4000000.0       4.0        4.0      5.0          1.0           0.0   \n",
       "4373  6000000.0       3.0        3.0      4.0          1.0           1.0   \n",
       "4374  7000000.0       4.0        5.0      5.0          1.0           1.0   \n",
       "4375  4500000.0       5.0        5.0      6.0          0.0           1.0   \n",
       "4376  1200000.0       3.0        3.0      4.0          1.0           0.0   \n",
       "\n",
       "      new_flag  serviced_flag  location_rank  exec_flag  estate_price  \\\n",
       "2279       0.0            0.0           43.0        2.0     2500000.0   \n",
       "2280       0.0            0.0           52.0        4.0     3500000.0   \n",
       "2281       0.0            0.0           25.0        2.0     1000000.0   \n",
       "2282       1.0            1.0           35.0        2.0     1800000.0   \n",
       "2283       1.0            0.0           52.0        3.0     3500000.0   \n",
       "...        ...            ...            ...        ...           ...   \n",
       "4372       1.0            1.0           52.0        4.0     3500000.0   \n",
       "4373       1.0            1.0           43.0        4.0     2500000.0   \n",
       "4374       1.0            1.0           52.0        4.0     3500000.0   \n",
       "4375       1.0            0.0           60.0        1.0     5000000.0   \n",
       "4376       1.0            0.0           43.0        2.0     2500000.0   \n",
       "\n",
       "      serviced_price  new_price locationbed location  \\\n",
       "2279       3500000.0  3500000.0      lekki3    lekki   \n",
       "2280       4500000.0  4500000.0      lekki4    lekki   \n",
       "2281       1500000.0  1500000.0      lekki1    lekki   \n",
       "2282       2500000.0  2500000.0      lekki2    lekki   \n",
       "2283       4500000.0  4500000.0      lekki4    lekki   \n",
       "...              ...        ...         ...      ...   \n",
       "4372       4500000.0  4500000.0      lekki4    lekki   \n",
       "4373       3500000.0  3500000.0      lekki3    lekki   \n",
       "4374       4500000.0  4500000.0      lekki4    lekki   \n",
       "4375       6500000.0  6500000.0      lekki5    lekki   \n",
       "4376       3500000.0  3500000.0      lekki3    lekki   \n",
       "\n",
       "                                          spec_location  \\\n",
       "2279                                  ikate lekki lagos   \n",
       "2280                                  ikota lekki lagos   \n",
       "2281                          lekki phase 1 lekki lagos   \n",
       "2282                                  ikota lekki lagos   \n",
       "2283       ikota villa estate lekki phase 2 lekki lagos   \n",
       "...                                                 ...   \n",
       "4372                    marwa lekki phase 1 lekki lagos   \n",
       "4373            off admiralty lekki phase 1 lekki lagos   \n",
       "4374            lekki phase 1 lekki phase 1 lekki lagos   \n",
       "4375                          lekki phase 1 lekki lagos   \n",
       "4376  mayfair garden estate, awoyaya eputu ibeju lek...   \n",
       "\n",
       "                                            description  \n",
       "2279  For more information, pricing and private view...  \n",
       "2280  4 bedroom Semi Detached Duplex House for rent ...  \n",
       "2281  For more information, pricing and private view...  \n",
       "2282  Its a fully serviced apartment with air condit...  \n",
       "2283  FOR RENT: Brand New Superbly Finished 4 Bedroo...  \n",
       "...                                                 ...  \n",
       "4372  It's located in a beautiful mini estate in Lek...  \n",
       "4373  3 bedroom flat for rent Off admiralty Lekki Ph...  \n",
       "4374  -Newly built 4 bedroom with a boys quarter. -F...  \n",
       "4375  Newly built spacious 5bedroom semi detached du...  \n",
       "4376  Lovely built three bedrooms flat in an estate ...  \n",
       "\n",
       "[2098 rows x 17 columns]"
      ]
     },
     "execution_count": 37,
     "metadata": {},
     "output_type": "execute_result"
    }
   ],
   "source": [
    "df_house[(df_house[\"location\"] == \"lekki\") & (df_house[\"price\"])]"
   ]
  },
  {
   "cell_type": "code",
   "execution_count": 4,
   "id": "3f98ec76",
   "metadata": {},
   "outputs": [],
   "source": [
    "df_house.drop([\"locationbed\" , \"spec_location\" , \"description\" ] ,  axis = \"columns\" , inplace = True)"
   ]
  },
  {
   "cell_type": "code",
   "execution_count": 5,
   "id": "cf0cbd11",
   "metadata": {},
   "outputs": [
    {
     "data": {
      "text/plain": [
       "LabelEncoder()"
      ]
     },
     "execution_count": 5,
     "metadata": {},
     "output_type": "execute_result"
    }
   ],
   "source": [
    "from sklearn.preprocessing import LabelEncoder\n",
    "le = LabelEncoder()\n",
    "le"
   ]
  },
  {
   "cell_type": "code",
   "execution_count": 6,
   "id": "51c308d2",
   "metadata": {},
   "outputs": [],
   "source": [
    "df_house[\"location\"] = le.fit_transform(df_house[\"location\"])"
   ]
  },
  {
   "cell_type": "code",
   "execution_count": 7,
   "id": "a2bf570b",
   "metadata": {},
   "outputs": [
    {
     "data": {
      "text/plain": [
       "0       1\n",
       "1       1\n",
       "2       1\n",
       "3       1\n",
       "4       1\n",
       "       ..\n",
       "4372    6\n",
       "4373    6\n",
       "4374    6\n",
       "4375    6\n",
       "4376    6\n",
       "Name: location, Length: 4377, dtype: int32"
      ]
     },
     "execution_count": 7,
     "metadata": {},
     "output_type": "execute_result"
    }
   ],
   "source": [
    "df_house[\"location\"]"
   ]
  },
  {
   "cell_type": "code",
   "execution_count": 8,
   "id": "6f9d91ab",
   "metadata": {},
   "outputs": [
    {
     "data": {
      "text/plain": [
       "array([[3.00e+00, 2.00e+00, 3.00e+00, ..., 1.84e+06, 1.84e+06, 1.00e+00],\n",
       "       [1.00e+00, 1.00e+00, 1.00e+00, ..., 5.60e+05, 5.60e+05, 1.00e+00],\n",
       "       [2.00e+00, 2.00e+00, 2.00e+00, ..., 1.06e+06, 1.06e+06, 1.00e+00],\n",
       "       ...,\n",
       "       [4.00e+00, 5.00e+00, 5.00e+00, ..., 4.50e+06, 4.50e+06, 6.00e+00],\n",
       "       [5.00e+00, 5.00e+00, 6.00e+00, ..., 6.50e+06, 6.50e+06, 6.00e+00],\n",
       "       [3.00e+00, 3.00e+00, 4.00e+00, ..., 3.50e+06, 3.50e+06, 6.00e+00]])"
      ]
     },
     "execution_count": 8,
     "metadata": {},
     "output_type": "execute_result"
    }
   ],
   "source": [
    "X = df_house.iloc[: , 1: 14].values\n",
    "X"
   ]
  },
  {
   "cell_type": "code",
   "execution_count": 9,
   "id": "bef16bec",
   "metadata": {},
   "outputs": [
    {
     "data": {
      "text/plain": [
       "0        850000.0\n",
       "1        650000.0\n",
       "2        600000.0\n",
       "3       1500000.0\n",
       "4       1500000.0\n",
       "          ...    \n",
       "4372    4000000.0\n",
       "4373    6000000.0\n",
       "4374    7000000.0\n",
       "4375    4500000.0\n",
       "4376    1200000.0\n",
       "Name: price, Length: 4377, dtype: float64"
      ]
     },
     "execution_count": 9,
     "metadata": {},
     "output_type": "execute_result"
    }
   ],
   "source": [
    "y = df_house.iloc[: , 0]\n",
    "y"
   ]
  },
  {
   "cell_type": "code",
   "execution_count": 10,
   "id": "8eba0e82",
   "metadata": {},
   "outputs": [],
   "source": [
    "#features in selection\n",
    "from sklearn.feature_selection import SelectKBest\n",
    "from sklearn.feature_selection import chi2"
   ]
  },
  {
   "cell_type": "code",
   "execution_count": 11,
   "id": "d6d44022",
   "metadata": {},
   "outputs": [],
   "source": [
    "#apply SelectKBest class to extract top 10 best features\n",
    "bestfeatures = SelectKBest(score_func=chi2, k=10)\n",
    "fit = bestfeatures.fit(X,y)\n",
    "dfscores = pd.DataFrame(fit.scores_)\n",
    "dfcolumns = pd.DataFrame(df_house.iloc[: , 1:14].columns)"
   ]
  },
  {
   "cell_type": "code",
   "execution_count": 12,
   "id": "43c85db2",
   "metadata": {},
   "outputs": [
    {
     "name": "stdout",
     "output_type": "stream",
     "text": [
      "             Specs         Score\n",
      "10  serviced_price  4.490097e+09\n",
      "11       new_price  4.490097e+09\n",
      "9     estate_price  3.648917e+09\n",
      "7    location_rank  2.479423e+04\n",
      "8        exec_flag  1.901624e+03\n",
      "4     terrace_flag  1.644899e+03\n",
      "2          toilets  1.308640e+03\n",
      "0         bedrooms  1.246457e+03\n",
      "1        bathrooms  9.908438e+02\n",
      "12        location  4.881536e+02\n"
     ]
    }
   ],
   "source": [
    "featureScores = pd.concat([dfcolumns,dfscores],axis=1)\n",
    "featureScores.columns = ['Specs','Score']  #naming the dataframe columns\n",
    "print(featureScores.nlargest(10,'Score'))  #print 10 best features"
   ]
  },
  {
   "cell_type": "code",
   "execution_count": 13,
   "id": "5b0b54f9",
   "metadata": {},
   "outputs": [
    {
     "data": {
      "text/plain": [
       "array([[2.00e+00, 1.84e+06, 1.84e+06, ..., 3.00e+00, 3.00e+00, 1.00e+00],\n",
       "       [1.00e+00, 5.60e+05, 5.60e+05, ..., 1.00e+00, 1.00e+00, 1.00e+00],\n",
       "       [2.00e+00, 1.06e+06, 1.06e+06, ..., 2.00e+00, 2.00e+00, 1.00e+00],\n",
       "       ...,\n",
       "       [5.00e+00, 4.50e+06, 4.50e+06, ..., 5.00e+00, 4.00e+00, 6.00e+00],\n",
       "       [5.00e+00, 6.50e+06, 6.50e+06, ..., 6.00e+00, 5.00e+00, 6.00e+00],\n",
       "       [3.00e+00, 3.50e+06, 3.50e+06, ..., 4.00e+00, 3.00e+00, 6.00e+00]])"
      ]
     },
     "execution_count": 13,
     "metadata": {},
     "output_type": "execute_result"
    }
   ],
   "source": [
    "#now getting the my data split\n",
    "X = df_house[[\"bathrooms\" , \"serviced_price\" , \"new_price\" , \"estate_price\" , \"location_rank\",\"exec_flag\" , \"terrace_flag\" , \"toilets\" , \"bedrooms\" , \"location\"]].values\n",
    "X"
   ]
  },
  {
   "cell_type": "code",
   "execution_count": 14,
   "id": "c6119ca5",
   "metadata": {},
   "outputs": [
    {
     "data": {
      "text/plain": [
       "0        850000.0\n",
       "1        650000.0\n",
       "2        600000.0\n",
       "3       1500000.0\n",
       "4       1500000.0\n",
       "          ...    \n",
       "4372    4000000.0\n",
       "4373    6000000.0\n",
       "4374    7000000.0\n",
       "4375    4500000.0\n",
       "4376    1200000.0\n",
       "Name: price, Length: 4377, dtype: float64"
      ]
     },
     "execution_count": 14,
     "metadata": {},
     "output_type": "execute_result"
    }
   ],
   "source": [
    "y"
   ]
  },
  {
   "cell_type": "code",
   "execution_count": 15,
   "id": "e929dbaa",
   "metadata": {},
   "outputs": [],
   "source": [
    "#using the train and split method for modelling \n",
    "\n",
    "from sklearn.linear_model import LinearRegression\n",
    "from sklearn.model_selection import train_test_split\n",
    "import pickle\n",
    "import joblib"
   ]
  },
  {
   "cell_type": "code",
   "execution_count": 16,
   "id": "7634b15d",
   "metadata": {},
   "outputs": [],
   "source": [
    "lm = LinearRegression()"
   ]
  },
  {
   "cell_type": "code",
   "execution_count": 17,
   "id": "904b5614",
   "metadata": {},
   "outputs": [],
   "source": [
    "x_train , x_test , y_train , y_test = train_test_split(X , y , test_size = 0.2)"
   ]
  },
  {
   "cell_type": "code",
   "execution_count": 18,
   "id": "e82943f6",
   "metadata": {},
   "outputs": [
    {
     "data": {
      "text/plain": [
       "array([[3.0e+00, 3.5e+06, 3.5e+06, ..., 4.0e+00, 3.0e+00, 6.0e+00],\n",
       "       [3.0e+00, 1.0e+06, 1.0e+06, ..., 3.0e+00, 2.0e+00, 9.0e+00],\n",
       "       [3.0e+00, 1.5e+06, 1.5e+06, ..., 4.0e+00, 3.0e+00, 0.0e+00],\n",
       "       ...,\n",
       "       [1.0e+00, 6.6e+05, 6.6e+05, ..., 1.0e+00, 1.0e+00, 8.0e+00],\n",
       "       [2.0e+00, 6.6e+05, 6.6e+05, ..., 2.0e+00, 1.0e+00, 8.0e+00],\n",
       "       [5.0e+00, 7.5e+06, 7.5e+06, ..., 4.0e+00, 4.0e+00, 4.0e+00]])"
      ]
     },
     "execution_count": 18,
     "metadata": {},
     "output_type": "execute_result"
    }
   ],
   "source": [
    "x_train"
   ]
  },
  {
   "cell_type": "code",
   "execution_count": 19,
   "id": "7d65ae4f",
   "metadata": {},
   "outputs": [
    {
     "data": {
      "text/plain": [
       "3457    2000000.0\n",
       "729     1200000.0\n",
       "2215    1000000.0\n",
       "769      500000.0\n",
       "962      700000.0\n",
       "          ...    \n",
       "3307    3000000.0\n",
       "2613    3000000.0\n",
       "479      600000.0\n",
       "329      500000.0\n",
       "1682    5000000.0\n",
       "Name: price, Length: 3501, dtype: float64"
      ]
     },
     "execution_count": 19,
     "metadata": {},
     "output_type": "execute_result"
    }
   ],
   "source": [
    "y_train"
   ]
  },
  {
   "cell_type": "code",
   "execution_count": 20,
   "id": "c7b282d7",
   "metadata": {},
   "outputs": [
    {
     "data": {
      "text/plain": [
       "LinearRegression()"
      ]
     },
     "execution_count": 20,
     "metadata": {},
     "output_type": "execute_result"
    }
   ],
   "source": [
    "lm.fit(x_train , y_train)"
   ]
  },
  {
   "cell_type": "code",
   "execution_count": 21,
   "id": "638db3fd",
   "metadata": {},
   "outputs": [
    {
     "data": {
      "text/plain": [
       "-302244.675357013"
      ]
     },
     "execution_count": 21,
     "metadata": {},
     "output_type": "execute_result"
    }
   ],
   "source": [
    "lm.intercept_"
   ]
  },
  {
   "cell_type": "code",
   "execution_count": 22,
   "id": "ce1fdce9",
   "metadata": {},
   "outputs": [
    {
     "data": {
      "text/plain": [
       "array([-8.16170943e+04,  4.50510689e-02,  4.50762655e-02,  6.21320599e-01,\n",
       "       -2.41218878e+04,  5.09418963e+05,  7.93848959e+05,  9.40059054e+04,\n",
       "        1.05139747e+05,  1.60365579e+04])"
      ]
     },
     "execution_count": 22,
     "metadata": {},
     "output_type": "execute_result"
    }
   ],
   "source": [
    "lm.coef_"
   ]
  },
  {
   "cell_type": "code",
   "execution_count": 23,
   "id": "8255521f",
   "metadata": {},
   "outputs": [
    {
     "data": {
      "text/plain": [
       "0.7851074676396741"
      ]
     },
     "execution_count": 23,
     "metadata": {},
     "output_type": "execute_result"
    }
   ],
   "source": [
    "lm.score(x_train , y_train)"
   ]
  },
  {
   "cell_type": "code",
   "execution_count": 24,
   "id": "f667b282",
   "metadata": {},
   "outputs": [
    {
     "data": {
      "text/plain": [
       "0.7943840600577045"
      ]
     },
     "execution_count": 24,
     "metadata": {},
     "output_type": "execute_result"
    }
   ],
   "source": [
    "lm.score(x_test,y_test)"
   ]
  },
  {
   "cell_type": "code",
   "execution_count": 25,
   "id": "87108044",
   "metadata": {},
   "outputs": [],
   "source": [
    "import pickle\n",
    "import joblib"
   ]
  },
  {
   "cell_type": "code",
   "execution_count": 26,
   "id": "1d7ec0cf",
   "metadata": {},
   "outputs": [
    {
     "data": {
      "text/plain": [
       "['housePricing.pkl']"
      ]
     },
     "execution_count": 26,
     "metadata": {},
     "output_type": "execute_result"
    }
   ],
   "source": [
    "filename = \"housePricing.pkl\"\n",
    "joblib.dump(lm , filename)"
   ]
  },
  {
   "cell_type": "code",
   "execution_count": null,
   "id": "41603061",
   "metadata": {},
   "outputs": [],
   "source": []
  }
 ],
 "metadata": {
  "kernelspec": {
   "display_name": "Python 3",
   "language": "python",
   "name": "python3"
  },
  "language_info": {
   "codemirror_mode": {
    "name": "ipython",
    "version": 3
   },
   "file_extension": ".py",
   "mimetype": "text/x-python",
   "name": "python",
   "nbconvert_exporter": "python",
   "pygments_lexer": "ipython3",
   "version": "3.8.8"
  }
 },
 "nbformat": 4,
 "nbformat_minor": 5
}
